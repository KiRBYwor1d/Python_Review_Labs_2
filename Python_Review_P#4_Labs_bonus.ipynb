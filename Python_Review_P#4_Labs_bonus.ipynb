{
 "cells": [
  {
   "cell_type": "code",
   "execution_count": null,
   "id": "608faefc-f582-4a8c-ac35-29a1097c82f0",
   "metadata": {},
   "outputs": [],
   "source": [
    "Python_Review_P#4_Labs\n",
    "Try and Except\n",
    "Write a program that do the following :-\n",
    " .  Ask the user to enter his name.\n",
    " .  Ask the user to enter his age.\n",
    " .  If his age is between 0 and 6, then print \"Kid\"\n",
    " .  Else if his age is under 0, then print \"Wrong age value, you can not enter value 0\n",
    "or less.\"\n",
    " .  Else if the age is greater than 6, do the following :-\n",
    "· An empty variable called total_cost with initial value 0.\n",
    "· Ask him to enter the number of items that he wants to buy.\n",
    "· for each item, do the following :-\n",
    "· Ask him to enter the item name.\n",
    "· Ask him to enter the item price.\n",
    "· Ask him to enter the item quantity.\n",
    "· You need to calculate the item total cost by multiplying the quantity by the price and name it as item_cost.\n",
    "· Then, you need to update the total_cost variable by adding the value of item_cost.\n",
    "· Print the item_cost and the total_cost.\n",
    "· Now, if the total_cost is greater than 200, make a discount by 20% for this special customer!!\n",
    " .  Do not forget to handle any unexpected inputs from the users (Just cast the input\n",
    "values and catch the errors!!).\n",
    " .  Finally, ask the user if he want to repeat the same process from step 1 until 6 or\n",
    "not, Use the loops, but one of them ;)\n",
    "· Note : The ask is after catching the errors.\n"
   ]
  },
  {
   "cell_type": "code",
   "execution_count": 1,
   "id": "7f1ce1a9-9a44-41ce-b15f-7c70710766e2",
   "metadata": {},
   "outputs": [
    {
     "name": "stdout",
     "output_type": "stream",
     "text": [
      "Kid\n",
      "Item Cost (chips): $9.20\n",
      "Item Cost (Lays): $3.00\n",
      "Item Cost (Rakan): $30.00\n",
      "Total Cost: $42.20\n"
     ]
    }
   ],
   "source": [
    "def main():\n",
    "    while True:\n",
    "        name = input(\"Enter your name: \")\n",
    "        try:\n",
    "            age = int(input(\"Enter your age: \"))\n",
    "            if age < 0:\n",
    "                print(\"Wrong age value, you cannot enter 0 or less.\")\n",
    "            elif 0 <= age <= 6:\n",
    "                print(\"Kid\")\n",
    "            else:  # Age greater than 6\n",
    "                total_cost = 0\n",
    "                num_items = int(input(\"Enter the number of items you want to buy: \"))\n",
    "                for _ in range(num_items):\n",
    "                    item_name = input(\"Enter the item name: \")\n",
    "                    try:\n",
    "                        item_price = float(input(\"Enter the item price: \"))\n",
    "                        item_quantity = int(input(\"Enter the item quantity: \"))\n",
    "                        item_cost = item_price * item_quantity\n",
    "                        total_cost += item_cost\n",
    "                        print(f\"Item Cost ({item_name}): ${item_cost:.2f}\")  # Formatted output\n",
    "                    except ValueError:\n",
    "                        print(\"Invalid input for item price or quantity. Please enter numbers.\")\n",
    "                print(f\"Total Cost: ${total_cost:.2f}\")  # Formatted output\n",
    "                if total_cost > 200:\n",
    "                    discount = total_cost * 0.2\n",
    "                    final_cost = total_cost - discount\n",
    "                    print(f\"You get a 20% discount! Final Cost: ${final_cost:.2f}\")  # Formatted output\n",
    "        except ValueError:\n",
    "            print(\"Invalid input for age. Please enter a number.\")\n",
    "\n",
    "        # Repeat prompt for another purchase with a loop\n",
    "        repeat = input(\"Do you want to repeat (y/n)? \").lower()\n",
    "        if repeat not in (\"y\", \"yes\"):\n",
    "            break\n",
    "\n",
    "if __name__ == \"__main__\":\n",
    "    main()\n"
   ]
  }
 ],
 "metadata": {
  "kernelspec": {
   "display_name": "Python 3 (ipykernel)",
   "language": "python",
   "name": "python3"
  },
  "language_info": {
   "codemirror_mode": {
    "name": "ipython",
    "version": 3
   },
   "file_extension": ".py",
   "mimetype": "text/x-python",
   "name": "python",
   "nbconvert_exporter": "python",
   "pygments_lexer": "ipython3",
   "version": "3.11.3"
  }
 },
 "nbformat": 4,
 "nbformat_minor": 5
}
