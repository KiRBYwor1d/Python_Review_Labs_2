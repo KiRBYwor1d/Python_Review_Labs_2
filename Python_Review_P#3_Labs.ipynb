{
 "cells": [
  {
   "cell_type": "markdown",
   "id": "2d4a0e4d",
   "metadata": {},
   "source": [
    "## Lab1-Lists\n",
    "Given the following list : [5, 4, 17, 19, 30, 2, 7, 10, 45]\n",
    "- Q1: Write a Python program to sum all the items in the list.\n",
    "- Q2: Write a Python program to get the largest number from the list.\n",
    "- Q3: Use list comprehension, create a new list from the above list containing only even numbers.\n",
    "- Q4: Use list slicing to get a new list from the previous list starting from the start to the 5th element in the list."
   ]
  },
  {
   "cell_type": "code",
   "execution_count": 1,
   "id": "88e0fe9c",
   "metadata": {},
   "outputs": [
    {
     "name": "stdout",
     "output_type": "stream",
     "text": [
      "The sum of all the items in the list is: 139\n",
      "The largest number in the list is: 45\n",
      "The even numbers in the list are: [4, 30, 2, 10]\n",
      "The sublist from the original list is: [5, 4, 17, 19, 30]\n"
     ]
    }
   ],
   "source": [
    "# Sample list\n",
    "numbers = [5, 4, 17, 19, 30, 2, 7, 10, 45]\n",
    "\n",
    "# Q1: Sum of all the items in the list\n",
    "sum_of_numbers = sum(numbers)\n",
    "print(f\"The sum of all the items in the list is: {sum_of_numbers}\")\n",
    "\n",
    "# Q2: Largest number from the list\n",
    "largest_number = max(numbers)\n",
    "print(f\"The largest number in the list is: {largest_number}\")\n",
    "\n",
    "# Q3: Even numbers using list comprehension\n",
    "even_numbers = [num for num in numbers if num % 2 == 0]\n",
    "print(f\"The even numbers in the list are: {even_numbers}\")\n",
    "\n",
    "# Q4: Sublist using list slicing\n",
    "sublist = numbers[:5]  # Get elements from index 0 to 4 (excluding 5th element)\n",
    "print(f\"The sublist from the original list is: {sublist}\")\n"
   ]
  },
  {
   "cell_type": "markdown",
   "id": "4df61e4c",
   "metadata": {},
   "source": [
    "## Lab2-Dictionary\n",
    "\n",
    "Build a phone book program that receives the phone number, and returns the name of the owner. \n",
    "You can follow the table below:\n",
    "\n",
    "| Name    | Number      |\n",
    "| -------- | ---------- |\n",
    "| Amal     | 1111111111 |\n",
    "| Mohammed | 2222222222 |\n",
    "| Khadijah | 3333333333 |\n",
    "| Abdullah  | 4444444444 |\n",
    "| Rawan    | 5555555555 |\n",
    "| Faisal   | 6666666666 |\n",
    "| Layla    | 7777777777 |\n",
    "\n",
    "\n",
    "- If the number exists, print the owner. Otherwise, print \"Sorry, the number is not found\".\n",
    "- If the number is less or more than 10 numbers, print \"This is invalid number\".\n",
    "- If the number contains letters or symbols, print \"This is invalid number\"."
   ]
  },
  {
   "cell_type": "code",
   "execution_count": 2,
   "id": "7d53c06c",
   "metadata": {},
   "outputs": [
    {
     "name": "stdout",
     "output_type": "stream",
     "text": [
      "Sorry, the number is not found\n"
     ]
    }
   ],
   "source": [
    "# Phone book dictionary\n",
    "phonebook = {\n",
    "    \"Amal\": \"1111111111\",\n",
    "    \"Mohammed\": \"2222222222\",\n",
    "    \"Khadijah\": \"3333333333\",\n",
    "    \"Abdullah\": \"4444444444\",\n",
    "    \"Rawan\": \"5555555555\",\n",
    "    \"Faisal\": \"6666666666\",\n",
    "    \"Layla\": \"7777777777\",\n",
    "}\n",
    "\n",
    "# Get user input\n",
    "number = input(\"Enter a phone number: \")\n",
    "\n",
    "# Check if number exists in phonebook\n",
    "if number in phonebook.values():\n",
    "  # Find the name associated with the number\n",
    "  for name, phone_number in phonebook.items():\n",
    "    if phone_number == number:\n",
    "      print(f\"The owner of the number is: {name}\")\n",
    "      break  # Exit the loop after finding the name\n",
    "else:\n",
    "  print(\"Sorry, the number is not found\")"
   ]
  },
  {
   "cell_type": "code",
   "execution_count": 9,
   "id": "ffdffaec",
   "metadata": {},
   "outputs": [
    {
     "name": "stdout",
     "output_type": "stream",
     "text": [
      "This is invalid number (must be 10 digits)\n"
     ]
    }
   ],
   "source": [
    "# Phone book dictionary\n",
    "phonebook = {\n",
    "    \"Amal\": \"1111111111\",\n",
    "    \"Mohammed\": \"2222222222\",\n",
    "    \"Khadijah\": \"3333333333\",\n",
    "    \"Abdullah\": \"4444444444\",\n",
    "    \"Rawan\": \"5555555555\",\n",
    "    \"Faisal\": \"6666666666\",\n",
    "    \"Layla\": \"7777777777\",\n",
    "}\n",
    "\n",
    "def lookup_number(number):\n",
    "  \"\"\"Looks up a phone number in the phonebook and returns the owner's name.\n",
    "\n",
    "  Args:\n",
    "      number: The phone number to search for (string).\n",
    "\n",
    "  Returns:\n",
    "      A string containing the owner's name or an error message.\n",
    "  \"\"\"\n",
    "\n",
    "  # Validate phone number length\n",
    "  if len(number) != 10:\n",
    "    return \"This is invalid number (must be 10 digits)\"\n",
    "\n",
    "  # Check if number exists in phonebook\n",
    "  if number in phonebook.values():\n",
    "    # Find the name associated with the number\n",
    "    for name, phone_number in phonebook.items():\n",
    "      if phone_number == number:\n",
    "        return f\"The owner of the number is: {name}\"\n",
    "  else:\n",
    "    return \"Sorry, the number is not found\"\n",
    "\n",
    "# Get user input\n",
    "number = input(\"Enter a phone number: \")\n",
    "\n",
    "# Perform lookup and print result\n",
    "result = lookup_number(number)\n",
    "print(result)"
   ]
  },
  {
   "cell_type": "code",
   "execution_count": 10,
   "id": "93b05ba5",
   "metadata": {},
   "outputs": [
    {
     "name": "stdout",
     "output_type": "stream",
     "text": [
      "This is invalid number (must be digits only)\n"
     ]
    }
   ],
   "source": [
    "# Phone book dictionary\n",
    "phonebook = {\n",
    "    \"Amal\": \"1111111111\",\n",
    "    \"Mohammed\": \"2222222222\",\n",
    "    \"Khadijah\": \"3333333333\",\n",
    "    \"Abdullah\": \"4444444444\",\n",
    "    \"Rawan\": \"5555555555\",\n",
    "    \"Faisal\": \"6666666666\",\n",
    "    \"Layla\": \"7777777777\",\n",
    "}\n",
    "\n",
    "\n",
    "def lookup_number(number):\n",
    "  \"\"\"Looks up a phone number in the phonebook and returns the owner's name.\n",
    "\n",
    "  Args:\n",
    "      number: The phone number to search for (string).\n",
    "\n",
    "  Returns:\n",
    "      A string containing the owner's name or an error message.\n",
    "  \"\"\"\n",
    "\n",
    "  # Validate phone number length\n",
    "  if len(number) != 10:\n",
    "    return \"This is invalid number (must be 10 digits)\"\n",
    "\n",
    "  # Validate phone number format (digits only)\n",
    "  try:\n",
    "    int(number)  # Attempt conversion to integer\n",
    "  except ValueError:\n",
    "    return \"This is invalid number (must be digits only)\"\n",
    "\n",
    "  # Check if number exists in phonebook\n",
    "  if number in phonebook.values():\n",
    "    # Find the name associated with the number\n",
    "    for name, phone_number in phonebook.items():\n",
    "      if phone_number == number:\n",
    "        return f\"The owner of the number is: {name}\"\n",
    "  else:\n",
    "    return \"Sorry, the number is not found\"\n",
    "\n",
    "# Get user input\n",
    "number = input(\"Enter a phone number: \")\n",
    "\n",
    "# Perform lookup and print result\n",
    "result = lookup_number(number)\n",
    "print(result)\n"
   ]
  }
 ],
 "metadata": {
  "kernelspec": {
   "display_name": "Python 3 (ipykernel)",
   "language": "python",
   "name": "python3"
  },
  "language_info": {
   "codemirror_mode": {
    "name": "ipython",
    "version": 3
   },
   "file_extension": ".py",
   "mimetype": "text/x-python",
   "name": "python",
   "nbconvert_exporter": "python",
   "pygments_lexer": "ipython3",
   "version": "3.11.3"
  }
 },
 "nbformat": 4,
 "nbformat_minor": 5
}
